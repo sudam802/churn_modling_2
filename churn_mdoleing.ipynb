{
  "nbformat": 4,
  "nbformat_minor": 0,
  "metadata": {
    "colab": {
      "provenance": [],
      "authorship_tag": "ABX9TyNtQtkXgZNA7HOgQF3x77HM",
      "include_colab_link": true
    },
    "kernelspec": {
      "name": "python3",
      "display_name": "Python 3"
    },
    "language_info": {
      "name": "python"
    }
  },
  "cells": [
    {
      "cell_type": "markdown",
      "metadata": {
        "id": "view-in-github",
        "colab_type": "text"
      },
      "source": [
        "<a href=\"https://colab.research.google.com/github/sudam802/churn_modling_2/blob/main/churn_mdoleing.ipynb\" target=\"_parent\"><img src=\"https://colab.research.google.com/assets/colab-badge.svg\" alt=\"Open In Colab\"/></a>"
      ]
    },
    {
      "cell_type": "code",
      "execution_count": null,
      "metadata": {
        "colab": {
          "base_uri": "https://localhost:8080/"
        },
        "id": "GVc9yGzxtREi",
        "outputId": "f2c42db6-543d-4c46-f216-43f32ced2f02",
        "collapsed": true
      },
      "outputs": [
        {
          "output_type": "stream",
          "name": "stdout",
          "text": [
            "Mounted at /content/drive\n"
          ]
        }
      ],
      "source": [
        "from google.colab import drive\n",
        "\n",
        "# Mount Google Drive\n",
        "drive.mount('/content/drive')\n",
        "file_path='/content/drive/My Drive/churn_modleing/Churn_Modelling.csv'"
      ]
    },
    {
      "cell_type": "code",
      "source": [],
      "metadata": {
        "colab": {
          "base_uri": "https://localhost:8080/"
        },
        "id": "AevRMjhAv3mN",
        "outputId": "ece48013-2a32-4a21-9298-d15ae3eb41c6",
        "collapsed": true
      },
      "execution_count": null,
      "outputs": [
        {
          "output_type": "stream",
          "name": "stdout",
          "text": [
            "Requirement already satisfied: keras in /usr/local/lib/python3.10/dist-packages (2.15.0)\n",
            "Traceback (most recent call last):\n",
            "  File \"/usr/local/lib/python3.10/dist-packages/pip/_vendor/pkg_resources/__init__.py\", line 3108, in _dep_map\n",
            "    return self.__dep_map\n",
            "  File \"/usr/local/lib/python3.10/dist-packages/pip/_vendor/pkg_resources/__init__.py\", line 2901, in __getattr__\n",
            "    raise AttributeError(attr)\n",
            "AttributeError: _DistInfoDistribution__dep_map\n",
            "\n",
            "During handling of the above exception, another exception occurred:\n",
            "\n",
            "Traceback (most recent call last):\n",
            "  File \"/usr/local/lib/python3.10/dist-packages/pip/_internal/cli/base_command.py\", line 169, in exc_logging_wrapper\n",
            "    status = run_func(*args)\n",
            "  File \"/usr/local/lib/python3.10/dist-packages/pip/_internal/cli/req_command.py\", line 242, in wrapper\n",
            "    return func(self, options, args)\n",
            "  File \"/usr/local/lib/python3.10/dist-packages/pip/_internal/commands/install.py\", line 441, in run\n",
            "    conflicts = self._determine_conflicts(to_install)\n",
            "  File \"/usr/local/lib/python3.10/dist-packages/pip/_internal/commands/install.py\", line 572, in _determine_conflicts\n",
            "    return check_install_conflicts(to_install)\n",
            "  File \"/usr/local/lib/python3.10/dist-packages/pip/_internal/operations/check.py\", line 101, in check_install_conflicts\n",
            "    package_set, _ = create_package_set_from_installed()\n",
            "  File \"/usr/local/lib/python3.10/dist-packages/pip/_internal/operations/check.py\", line 42, in create_package_set_from_installed\n",
            "    dependencies = list(dist.iter_dependencies())\n",
            "  File \"/usr/local/lib/python3.10/dist-packages/pip/_internal/metadata/pkg_resources.py\", line 216, in iter_dependencies\n",
            "    return self._dist.requires(extras)\n",
            "  File \"/usr/local/lib/python3.10/dist-packages/pip/_vendor/pkg_resources/__init__.py\", line 2821, in requires\n",
            "    dm = self._dep_map\n",
            "  File \"/usr/local/lib/python3.10/dist-packages/pip/_vendor/pkg_resources/__init__.py\", line 3110, in _dep_map\n",
            "    self.__dep_map = self._compute_dependencies()\n",
            "  File \"/usr/local/lib/python3.10/dist-packages/pip/_vendor/pkg_resources/__init__.py\", line 3132, in _compute_dependencies\n",
            "    dm[s_extra] = [r for r in reqs_for_extra(extra) if r not in common]\n",
            "  File \"/usr/local/lib/python3.10/dist-packages/pip/_vendor/pkg_resources/__init__.py\", line 3132, in <listcomp>\n",
            "    dm[s_extra] = [r for r in reqs_for_extra(extra) if r not in common]\n",
            "  File \"/usr/local/lib/python3.10/dist-packages/pip/_vendor/pkg_resources/__init__.py\", line 3124, in reqs_for_extra\n",
            "    if not req.marker or req.marker.evaluate({'extra': extra}):\n",
            "  File \"/usr/local/lib/python3.10/dist-packages/pip/_vendor/packaging/markers.py\", line 304, in evaluate\n",
            "    return _evaluate_markers(self._markers, current_environment)\n",
            "  File \"/usr/local/lib/python3.10/dist-packages/pip/_vendor/packaging/markers.py\", line 234, in _evaluate_markers\n",
            "    lhs_value = _get_env(environment, lhs.value)\n",
            "  File \"/usr/local/lib/python3.10/dist-packages/pip/_vendor/packaging/markers.py\", line 212, in _get_env\n",
            "    value: Union[str, Undefined] = environment.get(name, _undefined)\n",
            "KeyboardInterrupt\n",
            "\n",
            "During handling of the above exception, another exception occurred:\n",
            "\n",
            "Traceback (most recent call last):\n",
            "  File \"/usr/lib/python3.10/logging/__init__.py\", line 1732, in isEnabledFor\n",
            "    return self._cache[level]\n",
            "KeyError: 50\n",
            "\n",
            "During handling of the above exception, another exception occurred:\n",
            "\n",
            "Traceback (most recent call last):\n",
            "  File \"/usr/local/bin/pip3\", line 8, in <module>\n",
            "    sys.exit(main())\n",
            "  File \"/usr/local/lib/python3.10/dist-packages/pip/_internal/cli/main.py\", line 79, in main\n",
            "    return command.main(cmd_args)\n",
            "  File \"/usr/local/lib/python3.10/dist-packages/pip/_internal/cli/base_command.py\", line 101, in main\n",
            "    return self._main(args)\n",
            "  File \"/usr/local/lib/python3.10/dist-packages/pip/_internal/cli/base_command.py\", line 223, in _main\n",
            "    return run(options, args)\n",
            "  File \"/usr/local/lib/python3.10/dist-packages/pip/_internal/cli/base_command.py\", line 206, in exc_logging_wrapper\n",
            "    logger.critical(\"Operation cancelled by user\")\n",
            "  File \"/usr/lib/python3.10/logging/__init__.py\", line 1523, in critical\n",
            "    if self.isEnabledFor(CRITICAL):\n",
            "  File \"/usr/lib/python3.10/logging/__init__.py\", line 1734, in isEnabledFor\n",
            "    _acquireLock()\n",
            "  File \"/usr/lib/python3.10/logging/__init__.py\", line 219, in _acquireLock\n",
            "    def _acquireLock():\n",
            "KeyboardInterrupt\n",
            "^C\n"
          ]
        }
      ]
    },
    {
      "cell_type": "code",
      "source": [
        "import numpy as np\n",
        "import pandas as pd\n",
        "\n",
        "# Importing the dataset\n",
        "dataset = pd.read_csv(file_path)\n",
        "# print(dataset.describe())\n",
        "x = dataset.iloc[:, 3: 13].values\n",
        "y = dataset.iloc[:, 13].values\n",
        "print(x)"
      ],
      "metadata": {
        "id": "yXnC9KnnIMl3",
        "colab": {
          "base_uri": "https://localhost:8080/"
        },
        "outputId": "6b5f8871-a5f4-4f37-df9b-7dcb181e9c22"
      },
      "execution_count": null,
      "outputs": [
        {
          "output_type": "stream",
          "name": "stdout",
          "text": [
            "         RowNumber    CustomerId   CreditScore           Age        Tenure  \\\n",
            "count  10000.00000  1.000000e+04  10000.000000  10000.000000  10000.000000   \n",
            "mean    5000.50000  1.569094e+07    650.528800     38.921800      5.012800   \n",
            "std     2886.89568  7.193619e+04     96.653299     10.487806      2.892174   \n",
            "min        1.00000  1.556570e+07    350.000000     18.000000      0.000000   \n",
            "25%     2500.75000  1.562853e+07    584.000000     32.000000      3.000000   \n",
            "50%     5000.50000  1.569074e+07    652.000000     37.000000      5.000000   \n",
            "75%     7500.25000  1.575323e+07    718.000000     44.000000      7.000000   \n",
            "max    10000.00000  1.581569e+07    850.000000     92.000000     10.000000   \n",
            "\n",
            "             Balance  NumOfProducts    HasCrCard  IsActiveMember  \\\n",
            "count   10000.000000   10000.000000  10000.00000    10000.000000   \n",
            "mean    76485.889288       1.530200      0.70550        0.515100   \n",
            "std     62397.405202       0.581654      0.45584        0.499797   \n",
            "min         0.000000       1.000000      0.00000        0.000000   \n",
            "25%         0.000000       1.000000      0.00000        0.000000   \n",
            "50%     97198.540000       1.000000      1.00000        1.000000   \n",
            "75%    127644.240000       2.000000      1.00000        1.000000   \n",
            "max    250898.090000       4.000000      1.00000        1.000000   \n",
            "\n",
            "       EstimatedSalary        Exited  \n",
            "count     10000.000000  10000.000000  \n",
            "mean     100090.239881      0.203700  \n",
            "std       57510.492818      0.402769  \n",
            "min          11.580000      0.000000  \n",
            "25%       51002.110000      0.000000  \n",
            "50%      100193.915000      0.000000  \n",
            "75%      149388.247500      0.000000  \n",
            "max      199992.480000      1.000000  \n",
            "[[619 'France' 'Female' ... 1 1 101348.88]\n",
            " [608 'Spain' 'Female' ... 0 1 112542.58]\n",
            " [502 'France' 'Female' ... 1 0 113931.57]\n",
            " ...\n",
            " [709 'France' 'Female' ... 0 1 42085.58]\n",
            " [772 'Germany' 'Male' ... 1 0 92888.52]\n",
            " [792 'France' 'Female' ... 1 0 38190.78]]\n"
          ]
        }
      ]
    },
    {
      "cell_type": "code",
      "source": [
        "\n",
        "\n",
        "\n",
        "# preprocessing the data set\n",
        "from sklearn.preprocessing import LabelEncoder, OneHotEncoder\n",
        "labelencoder_x_1 = LabelEncoder()\n",
        "x[:, 1] = labelencoder_x_1.fit_transform(x[:, 1])\n",
        "labelencoder_x_2 = LabelEncoder()\n",
        "x[:, 2] = labelencoder_x_2.fit_transform(x[:, 2])\n",
        "from sklearn.compose import ColumnTransformer\n",
        "\n",
        "columnTransformer = ColumnTransformer(\n",
        "    transformers=[\n",
        "        ('one_hot_encoder', OneHotEncoder(), [1])  # Apply OneHotEncoder to columns 0 and 1\n",
        "    ],\n",
        "    remainder='passthrough'  # Pass through any other columns\n",
        ")\n",
        "\n",
        "x = columnTransformer.fit_transform(x)\n",
        "\n",
        "# Step 4: Drop one dummy variable to avoid multicollinearity if needed\n",
        "# Example: drop the first column of the one-hot encoded part (depends on specific requirements)\n",
        "x = x[:,1:]\n",
        "\n",
        "# Step 5: Print the transformed data and its shape\n",
        "print(\"After One Hot Encoding and preprocessing:\")\n",
        "print(x[1,:])\n"
      ],
      "metadata": {
        "id": "e1B-XzxtejUc",
        "colab": {
          "base_uri": "https://localhost:8080/"
        },
        "outputId": "fea05ee6-cab7-4d8f-bdc7-c6d5d5454e12"
      },
      "execution_count": null,
      "outputs": [
        {
          "output_type": "stream",
          "name": "stdout",
          "text": [
            "After One Hot Encoding and preprocessing:\n",
            "[0.0 1.0 608 0 41 1 83807.86 1 0 1 112542.58]\n"
          ]
        }
      ]
    },
    {
      "cell_type": "code",
      "source": [
        "# splitting the data set\n",
        "from sklearn.model_selection import train_test_split\n",
        "x_train, x_test, y_train, y_test = train_test_split(x, y, test_size = 0.25, random_state = 0)\n"
      ],
      "metadata": {
        "id": "YxoTEoHxr9v0"
      },
      "execution_count": null,
      "outputs": []
    },
    {
      "cell_type": "code",
      "source": [
        "from sklearn.preprocessing import StandardScaler\n",
        "sc=StandardScaler()\n",
        "x_train=sc.fit_transform(x_train)\n",
        "x_test=sc.transform(x_test)"
      ],
      "metadata": {
        "id": "SjEMJYLMwHRT",
        "collapsed": true
      },
      "execution_count": null,
      "outputs": []
    },
    {
      "cell_type": "code",
      "source": [
        "#  building the ANN\n",
        "import keras\n",
        "from keras.models import Sequential\n",
        "from keras.layers import Dense\n",
        "classifier=Sequential()\n",
        "classifier.add(Dense(units=6,kernel_initializer='uniform',activation='relu',input_dim=11))\n",
        "classifier.add(Dense(units=6,kernel_initializer='uniform',activation='relu'))\n",
        "classifier.add(Dense(units=1,kernel_initializer='uniform',activation='sigmoid'))"
      ],
      "metadata": {
        "id": "JoAxVICiQCZw"
      },
      "execution_count": null,
      "outputs": []
    },
    {
      "cell_type": "code",
      "source": [
        "classifier.compile(optimizer='adam',loss='binary_crossentropy',metrics=['accuracy'])\n",
        "classifier.fit(x_train,y_train,batch_size=10,epochs=100)\n"
      ],
      "metadata": {
        "colab": {
          "base_uri": "https://localhost:8080/"
        },
        "id": "xGPbOwHBrbMr",
        "outputId": "64221e37-5a44-4a57-e5a7-a4cc08ffba2f",
        "collapsed": true
      },
      "execution_count": null,
      "outputs": [
        {
          "output_type": "stream",
          "name": "stdout",
          "text": [
            "Epoch 1/100\n",
            "750/750 [==============================] - 3s 2ms/step - loss: 0.4908 - accuracy: 0.7965\n",
            "Epoch 2/100\n",
            "750/750 [==============================] - 2s 2ms/step - loss: 0.4233 - accuracy: 0.8129\n",
            "Epoch 3/100\n",
            "750/750 [==============================] - 2s 3ms/step - loss: 0.4163 - accuracy: 0.8231\n",
            "Epoch 4/100\n",
            "750/750 [==============================] - 3s 3ms/step - loss: 0.4116 - accuracy: 0.8277\n",
            "Epoch 5/100\n",
            "750/750 [==============================] - 2s 2ms/step - loss: 0.4081 - accuracy: 0.8293\n",
            "Epoch 6/100\n",
            "750/750 [==============================] - 2s 2ms/step - loss: 0.4068 - accuracy: 0.8308\n",
            "Epoch 7/100\n",
            "750/750 [==============================] - 2s 2ms/step - loss: 0.4054 - accuracy: 0.8311\n",
            "Epoch 8/100\n",
            "750/750 [==============================] - 2s 2ms/step - loss: 0.4042 - accuracy: 0.8317\n",
            "Epoch 9/100\n",
            "750/750 [==============================] - 3s 4ms/step - loss: 0.4028 - accuracy: 0.8331\n",
            "Epoch 10/100\n",
            "750/750 [==============================] - 2s 2ms/step - loss: 0.4026 - accuracy: 0.8315\n",
            "Epoch 11/100\n",
            "750/750 [==============================] - 2s 3ms/step - loss: 0.4021 - accuracy: 0.8339\n",
            "Epoch 12/100\n",
            "750/750 [==============================] - 2s 3ms/step - loss: 0.4009 - accuracy: 0.8364\n",
            "Epoch 13/100\n",
            "750/750 [==============================] - 2s 2ms/step - loss: 0.4008 - accuracy: 0.8344\n",
            "Epoch 14/100\n",
            "750/750 [==============================] - 1s 2ms/step - loss: 0.3996 - accuracy: 0.8357\n",
            "Epoch 15/100\n",
            "750/750 [==============================] - 2s 2ms/step - loss: 0.3979 - accuracy: 0.8373\n",
            "Epoch 16/100\n",
            "750/750 [==============================] - 2s 2ms/step - loss: 0.3946 - accuracy: 0.8377\n",
            "Epoch 17/100\n",
            "750/750 [==============================] - 2s 2ms/step - loss: 0.3879 - accuracy: 0.8391\n",
            "Epoch 18/100\n",
            "750/750 [==============================] - 2s 2ms/step - loss: 0.3798 - accuracy: 0.8443\n",
            "Epoch 19/100\n",
            "750/750 [==============================] - 2s 3ms/step - loss: 0.3732 - accuracy: 0.8465\n",
            "Epoch 20/100\n",
            "750/750 [==============================] - 2s 3ms/step - loss: 0.3681 - accuracy: 0.8480\n",
            "Epoch 21/100\n",
            "750/750 [==============================] - 2s 2ms/step - loss: 0.3643 - accuracy: 0.8507\n",
            "Epoch 22/100\n",
            "750/750 [==============================] - 2s 2ms/step - loss: 0.3614 - accuracy: 0.8513\n",
            "Epoch 23/100\n",
            "750/750 [==============================] - 2s 2ms/step - loss: 0.3575 - accuracy: 0.8547\n",
            "Epoch 24/100\n",
            "750/750 [==============================] - 2s 2ms/step - loss: 0.3549 - accuracy: 0.8528\n",
            "Epoch 25/100\n",
            "750/750 [==============================] - 2s 2ms/step - loss: 0.3526 - accuracy: 0.8552\n",
            "Epoch 26/100\n",
            "750/750 [==============================] - 2s 2ms/step - loss: 0.3513 - accuracy: 0.8540\n",
            "Epoch 27/100\n",
            "750/750 [==============================] - 3s 3ms/step - loss: 0.3497 - accuracy: 0.8556\n",
            "Epoch 28/100\n",
            "750/750 [==============================] - 2s 3ms/step - loss: 0.3490 - accuracy: 0.8575\n",
            "Epoch 29/100\n",
            "750/750 [==============================] - 2s 2ms/step - loss: 0.3477 - accuracy: 0.8572\n",
            "Epoch 30/100\n",
            "750/750 [==============================] - 2s 2ms/step - loss: 0.3472 - accuracy: 0.8593\n",
            "Epoch 31/100\n",
            "750/750 [==============================] - 2s 2ms/step - loss: 0.3452 - accuracy: 0.8583\n",
            "Epoch 32/100\n",
            "750/750 [==============================] - 2s 2ms/step - loss: 0.3450 - accuracy: 0.8599\n",
            "Epoch 33/100\n",
            "750/750 [==============================] - 2s 2ms/step - loss: 0.3446 - accuracy: 0.8608\n",
            "Epoch 34/100\n",
            "750/750 [==============================] - 1s 2ms/step - loss: 0.3446 - accuracy: 0.8577\n",
            "Epoch 35/100\n",
            "750/750 [==============================] - 2s 3ms/step - loss: 0.3442 - accuracy: 0.8609\n",
            "Epoch 36/100\n",
            "750/750 [==============================] - 2s 3ms/step - loss: 0.3426 - accuracy: 0.8612\n",
            "Epoch 37/100\n",
            "750/750 [==============================] - 2s 2ms/step - loss: 0.3439 - accuracy: 0.8608\n",
            "Epoch 38/100\n",
            "750/750 [==============================] - 1s 2ms/step - loss: 0.3421 - accuracy: 0.8613\n",
            "Epoch 39/100\n",
            "750/750 [==============================] - 1s 2ms/step - loss: 0.3424 - accuracy: 0.8600\n",
            "Epoch 40/100\n",
            "750/750 [==============================] - 2s 2ms/step - loss: 0.3415 - accuracy: 0.8596\n",
            "Epoch 41/100\n",
            "750/750 [==============================] - 1s 2ms/step - loss: 0.3417 - accuracy: 0.8595\n",
            "Epoch 42/100\n",
            "750/750 [==============================] - 2s 2ms/step - loss: 0.3410 - accuracy: 0.8616\n",
            "Epoch 43/100\n",
            "750/750 [==============================] - 1s 2ms/step - loss: 0.3403 - accuracy: 0.8604\n",
            "Epoch 44/100\n",
            "750/750 [==============================] - 2s 3ms/step - loss: 0.3400 - accuracy: 0.8597\n",
            "Epoch 45/100\n",
            "750/750 [==============================] - 2s 3ms/step - loss: 0.3405 - accuracy: 0.8625\n",
            "Epoch 46/100\n",
            "750/750 [==============================] - 2s 2ms/step - loss: 0.3391 - accuracy: 0.8599\n",
            "Epoch 47/100\n",
            "750/750 [==============================] - 2s 2ms/step - loss: 0.3403 - accuracy: 0.8577\n",
            "Epoch 48/100\n",
            "750/750 [==============================] - 1s 2ms/step - loss: 0.3389 - accuracy: 0.8597\n",
            "Epoch 49/100\n",
            "750/750 [==============================] - 1s 2ms/step - loss: 0.3395 - accuracy: 0.8612\n",
            "Epoch 50/100\n",
            "750/750 [==============================] - 1s 2ms/step - loss: 0.3391 - accuracy: 0.8615\n",
            "Epoch 51/100\n",
            "750/750 [==============================] - 2s 2ms/step - loss: 0.3387 - accuracy: 0.8617\n",
            "Epoch 52/100\n",
            "750/750 [==============================] - 1s 2ms/step - loss: 0.3392 - accuracy: 0.8613\n",
            "Epoch 53/100\n",
            "750/750 [==============================] - 2s 3ms/step - loss: 0.3372 - accuracy: 0.8625\n",
            "Epoch 54/100\n",
            "750/750 [==============================] - 2s 3ms/step - loss: 0.3377 - accuracy: 0.8619\n",
            "Epoch 55/100\n",
            "750/750 [==============================] - 2s 2ms/step - loss: 0.3371 - accuracy: 0.8615\n",
            "Epoch 56/100\n",
            "750/750 [==============================] - 1s 2ms/step - loss: 0.3378 - accuracy: 0.8615\n",
            "Epoch 57/100\n",
            "750/750 [==============================] - 1s 2ms/step - loss: 0.3375 - accuracy: 0.8635\n",
            "Epoch 58/100\n",
            "750/750 [==============================] - 2s 2ms/step - loss: 0.3367 - accuracy: 0.8609\n",
            "Epoch 59/100\n",
            "750/750 [==============================] - 1s 2ms/step - loss: 0.3367 - accuracy: 0.8600\n",
            "Epoch 60/100\n",
            "750/750 [==============================] - 2s 2ms/step - loss: 0.3374 - accuracy: 0.8625\n",
            "Epoch 61/100\n",
            "750/750 [==============================] - 2s 3ms/step - loss: 0.3362 - accuracy: 0.8627\n",
            "Epoch 62/100\n",
            "750/750 [==============================] - 3s 3ms/step - loss: 0.3364 - accuracy: 0.8615\n",
            "Epoch 63/100\n",
            "750/750 [==============================] - 2s 3ms/step - loss: 0.3366 - accuracy: 0.8627\n",
            "Epoch 64/100\n",
            "750/750 [==============================] - 2s 2ms/step - loss: 0.3365 - accuracy: 0.8643\n",
            "Epoch 65/100\n",
            "750/750 [==============================] - 2s 2ms/step - loss: 0.3356 - accuracy: 0.8609\n",
            "Epoch 66/100\n",
            "750/750 [==============================] - 1s 2ms/step - loss: 0.3360 - accuracy: 0.8647\n",
            "Epoch 67/100\n",
            "750/750 [==============================] - 2s 2ms/step - loss: 0.3377 - accuracy: 0.8616\n",
            "Epoch 68/100\n",
            "750/750 [==============================] - 2s 2ms/step - loss: 0.3370 - accuracy: 0.8627\n",
            "Epoch 69/100\n",
            "750/750 [==============================] - 2s 2ms/step - loss: 0.3363 - accuracy: 0.8621\n",
            "Epoch 70/100\n",
            "750/750 [==============================] - 2s 3ms/step - loss: 0.3362 - accuracy: 0.8611\n",
            "Epoch 71/100\n",
            "750/750 [==============================] - 3s 3ms/step - loss: 0.3361 - accuracy: 0.8623\n",
            "Epoch 72/100\n",
            "750/750 [==============================] - 2s 2ms/step - loss: 0.3366 - accuracy: 0.8637\n",
            "Epoch 73/100\n",
            "750/750 [==============================] - 2s 2ms/step - loss: 0.3366 - accuracy: 0.8624\n",
            "Epoch 74/100\n",
            "750/750 [==============================] - 1s 2ms/step - loss: 0.3351 - accuracy: 0.8617\n",
            "Epoch 75/100\n",
            "750/750 [==============================] - 2s 2ms/step - loss: 0.3362 - accuracy: 0.8637\n",
            "Epoch 76/100\n",
            "750/750 [==============================] - 2s 2ms/step - loss: 0.3367 - accuracy: 0.8623\n",
            "Epoch 77/100\n",
            "750/750 [==============================] - 2s 2ms/step - loss: 0.3357 - accuracy: 0.8636\n",
            "Epoch 78/100\n",
            "750/750 [==============================] - 2s 3ms/step - loss: 0.3359 - accuracy: 0.8625\n",
            "Epoch 79/100\n",
            "750/750 [==============================] - 3s 4ms/step - loss: 0.3354 - accuracy: 0.8636\n",
            "Epoch 80/100\n",
            "750/750 [==============================] - 2s 3ms/step - loss: 0.3344 - accuracy: 0.8617\n",
            "Epoch 81/100\n",
            "750/750 [==============================] - 2s 2ms/step - loss: 0.3361 - accuracy: 0.8612\n",
            "Epoch 82/100\n",
            "750/750 [==============================] - 2s 2ms/step - loss: 0.3360 - accuracy: 0.8619\n",
            "Epoch 83/100\n",
            "750/750 [==============================] - 2s 2ms/step - loss: 0.3358 - accuracy: 0.8616\n",
            "Epoch 84/100\n",
            "750/750 [==============================] - 2s 2ms/step - loss: 0.3356 - accuracy: 0.8607\n",
            "Epoch 85/100\n",
            "750/750 [==============================] - 2s 2ms/step - loss: 0.3355 - accuracy: 0.8633\n",
            "Epoch 86/100\n",
            "750/750 [==============================] - 2s 3ms/step - loss: 0.3362 - accuracy: 0.8611\n",
            "Epoch 87/100\n",
            "750/750 [==============================] - 3s 3ms/step - loss: 0.3362 - accuracy: 0.8631\n",
            "Epoch 88/100\n",
            "750/750 [==============================] - 2s 3ms/step - loss: 0.3346 - accuracy: 0.8616\n",
            "Epoch 89/100\n",
            "750/750 [==============================] - 2s 2ms/step - loss: 0.3357 - accuracy: 0.8631\n",
            "Epoch 90/100\n",
            "750/750 [==============================] - 2s 2ms/step - loss: 0.3348 - accuracy: 0.8627\n",
            "Epoch 91/100\n",
            "750/750 [==============================] - 2s 2ms/step - loss: 0.3348 - accuracy: 0.8631\n",
            "Epoch 92/100\n",
            "750/750 [==============================] - 2s 2ms/step - loss: 0.3356 - accuracy: 0.8653\n",
            "Epoch 93/100\n",
            "750/750 [==============================] - 2s 2ms/step - loss: 0.3339 - accuracy: 0.8635\n",
            "Epoch 94/100\n",
            "750/750 [==============================] - 2s 3ms/step - loss: 0.3347 - accuracy: 0.8635\n",
            "Epoch 95/100\n",
            "750/750 [==============================] - 3s 4ms/step - loss: 0.3353 - accuracy: 0.8628\n",
            "Epoch 96/100\n",
            "750/750 [==============================] - 2s 3ms/step - loss: 0.3350 - accuracy: 0.8617\n",
            "Epoch 97/100\n",
            "750/750 [==============================] - 2s 2ms/step - loss: 0.3351 - accuracy: 0.8659\n",
            "Epoch 98/100\n",
            "750/750 [==============================] - 2s 2ms/step - loss: 0.3340 - accuracy: 0.8635\n",
            "Epoch 99/100\n",
            "750/750 [==============================] - 2s 2ms/step - loss: 0.3351 - accuracy: 0.8603\n",
            "Epoch 100/100\n",
            "750/750 [==============================] - 2s 2ms/step - loss: 0.3349 - accuracy: 0.8639\n"
          ]
        },
        {
          "output_type": "execute_result",
          "data": {
            "text/plain": [
              "<keras.src.callbacks.History at 0x7fbc392da080>"
            ]
          },
          "metadata": {},
          "execution_count": 9
        }
      ]
    },
    {
      "cell_type": "markdown",
      "source": [],
      "metadata": {
        "id": "jnWpoLUurj1L"
      }
    }
  ]
}